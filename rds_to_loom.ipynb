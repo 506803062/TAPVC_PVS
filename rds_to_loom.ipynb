{
 "cells": [
  {
   "cell_type": "code",
   "execution_count": 4,
   "metadata": {
    "vscode": {
     "languageId": "r"
    }
   },
   "outputs": [],
   "source": [
    "library(sceasy)\n",
    "library(Seurat)\n",
    "library(LoomExperiment)\n",
    "# 读取RDS文件\n",
    "data <- readRDS(\"/h/dongmadanni/menial_work/cell2drug/MyoFBcell_final22.rds\")\n"
   ]
  },
  {
   "cell_type": "markdown",
   "metadata": {},
   "source": [
    "### ECell"
   ]
  },
  {
   "cell_type": "code",
   "execution_count": 6,
   "metadata": {
    "vscode": {
     "languageId": "r"
    }
   },
   "outputs": [
    {
     "name": "stderr",
     "output_type": "stream",
     "text": [
      "Warning message in gzfile(file, \"rb\"):\n",
      "“cannot open compressed file '/h/dongmadanni/menial_work/cell2drug/ECcell_final22.rds', probable reason 'No such file or directory'”\n"
     ]
    },
    {
     "ename": "ERROR",
     "evalue": "Error in gzfile(file, \"rb\"): cannot open the connection\n",
     "output_type": "error",
     "traceback": [
      "Error in gzfile(file, \"rb\"): cannot open the connection\nTraceback:\n",
      "1. gzfile(file, \"rb\")",
      "2. .handleSimpleError(function (cnd) \n . {\n .     watcher$capture_plot_and_output()\n .     cnd <- sanitize_call(cnd)\n .     watcher$push(cnd)\n .     switch(on_error, continue = invokeRestart(\"eval_continue\"), \n .         stop = invokeRestart(\"eval_stop\"), error = NULL)\n . }, \"cannot open the connection\", base::quote(gzfile(file, \"rb\")))"
     ]
    }
   ],
   "source": [
    "library(sceasy)\n",
    "library(Seurat)\n",
    "library(LoomExperiment)\n",
    "# 读取RDS文件\n",
    "data_EC <- readRDS(\"/h/dongmadanni/menial_work/cell2drug/ECcell_final22.rds\")"
   ]
  },
  {
   "cell_type": "code",
   "execution_count": 7,
   "metadata": {
    "vscode": {
     "languageId": "r"
    }
   },
   "outputs": [
    {
     "data": {
      "text/html": [
       "'Seurat'"
      ],
      "text/latex": [
       "'Seurat'"
      ],
      "text/markdown": [
       "'Seurat'"
      ],
      "text/plain": [
       "[1] \"Seurat\"\n",
       "attr(,\"package\")\n",
       "[1] \"SeuratObject\""
      ]
     },
     "metadata": {},
     "output_type": "display_data"
    }
   ],
   "source": [
    "class(data)"
   ]
  },
  {
   "cell_type": "code",
   "execution_count": 8,
   "metadata": {
    "vscode": {
     "languageId": "r"
    }
   },
   "outputs": [
    {
     "data": {
      "text/html": [
       "'RNA'"
      ],
      "text/latex": [
       "'RNA'"
      ],
      "text/markdown": [
       "'RNA'"
      ],
      "text/plain": [
       "[1] \"RNA\""
      ]
     },
     "metadata": {},
     "output_type": "display_data"
    },
    {
     "data": {
      "text/html": [
       "'Assay5'"
      ],
      "text/latex": [
       "'Assay5'"
      ],
      "text/markdown": [
       "'Assay5'"
      ],
      "text/plain": [
       "[1] \"Assay5\"\n",
       "attr(,\"package\")\n",
       "[1] \"SeuratObject\""
      ]
     },
     "metadata": {},
     "output_type": "display_data"
    },
    {
     "data": {
      "text/plain": [
       "NULL"
      ]
     },
     "metadata": {},
     "output_type": "display_data"
    },
    {
     "data": {
      "text/html": [
       "<style>\n",
       ".list-inline {list-style: none; margin:0; padding: 0}\n",
       ".list-inline>li {display: inline-block}\n",
       ".list-inline>li:not(:last-child)::after {content: \"\\00b7\"; padding: 0 .5ex}\n",
       "</style>\n",
       "<ol class=list-inline><li>'data'</li><li>'counts'</li><li>'scale.data'</li></ol>\n"
      ],
      "text/latex": [
       "\\begin{enumerate*}\n",
       "\\item 'data'\n",
       "\\item 'counts'\n",
       "\\item 'scale.data'\n",
       "\\end{enumerate*}\n"
      ],
      "text/markdown": [
       "1. 'data'\n",
       "2. 'counts'\n",
       "3. 'scale.data'\n",
       "\n",
       "\n"
      ],
      "text/plain": [
       "[1] \"data\"       \"counts\"     \"scale.data\""
      ]
     },
     "metadata": {},
     "output_type": "display_data"
    }
   ],
   "source": [
    "# 查看默认 Assay 名称\n",
    "DefaultAssay(data)  # 示例输出: \"RNA\"\n",
    "\n",
    "# 查看 Assay 的类型（是否为 Assay5）\n",
    "class(data@assays$RNA)  # 预期输出: \"Assay5\"\n",
    "\n",
    "# 查看可用的数据层（如 counts、data、scale.data）\n",
    "names(data@assays$RNA)  # 示例输出: [1] \"counts\" \"data\"\n",
    "Layers(data[[\"RNA\"]])  "
   ]
  },
  {
   "cell_type": "code",
   "execution_count": 9,
   "metadata": {
    "vscode": {
     "languageId": "r"
    }
   },
   "outputs": [
    {
     "data": {
      "text/html": [
       "'SingleCellExperiment'"
      ],
      "text/latex": [
       "'SingleCellExperiment'"
      ],
      "text/markdown": [
       "'SingleCellExperiment'"
      ],
      "text/plain": [
       "[1] \"SingleCellExperiment\"\n",
       "attr(,\"package\")\n",
       "[1] \"SingleCellExperiment\""
      ]
     },
     "metadata": {},
     "output_type": "display_data"
    },
    {
     "data": {
      "text/html": [
       "<style>\n",
       ".list-inline {list-style: none; margin:0; padding: 0}\n",
       ".list-inline>li {display: inline-block}\n",
       ".list-inline>li:not(:last-child)::after {content: \"\\00b7\"; padding: 0 .5ex}\n",
       "</style>\n",
       "<ol class=list-inline><li>'counts'</li><li>'logcounts'</li><li>'scaledata'</li></ol>\n"
      ],
      "text/latex": [
       "\\begin{enumerate*}\n",
       "\\item 'counts'\n",
       "\\item 'logcounts'\n",
       "\\item 'scaledata'\n",
       "\\end{enumerate*}\n"
      ],
      "text/markdown": [
       "1. 'counts'\n",
       "2. 'logcounts'\n",
       "3. 'scaledata'\n",
       "\n",
       "\n"
      ],
      "text/plain": [
       "[1] \"counts\"    \"logcounts\" \"scaledata\""
      ]
     },
     "metadata": {},
     "output_type": "display_data"
    }
   ],
   "source": [
    "# 如果数据是Seurat对象，先转换为SingleCellExperiment\n",
    "sce_MyoFB <- as.SingleCellExperiment(data)\n",
    "class(sce_MyoFB)\n",
    "assayNames(sce_MyoFB)"
   ]
  },
  {
   "cell_type": "code",
   "execution_count": 12,
   "metadata": {
    "vscode": {
     "languageId": "r"
    }
   },
   "outputs": [
    {
     "name": "stderr",
     "output_type": "stream",
     "text": [
      "You created a large dataset with compression and chunking.\n",
      "The chunk size is equal to the dataset dimensions.\n",
      "If you want to read subsets of the dataset, you should testsmaller chunk sizes to improve read times.\n",
      "\n"
     ]
    },
    {
     "data": {
      "text/plain": [
       "class: SingleCellLoomExperiment \n",
       "dim: 37851 4832 \n",
       "metadata(0):\n",
       "assays(3): counts logcounts scaledata\n",
       "rownames(37851): ENSG00000260370 TUBB8 ... TTTY12 TTTY4B\n",
       "rowData names(0):\n",
       "colnames(4832): CELL21_N2_1 CELL34_N2_1 ... CELL85878_N1_7\n",
       "  CELL85913_N1_7\n",
       "colData names(11): orig.ident nCount_RNA ... subcelltype ident\n",
       "reducedDimNames(4): PCA HARMONY UMAP TSNE\n",
       "mainExpName: RNA\n",
       "altExpNames(0):\n",
       "rowGraphs(0): NULL\n",
       "colGraphs(0): NULL"
      ]
     },
     "metadata": {},
     "output_type": "display_data"
    }
   ],
   "source": [
    "# 转换为loom文件\n",
    "\n",
    "sceasy::convertFormat(sce_MyoFB, from=\"sce\", to=\"loom\", outFile=\"/h/dongmadanni/menial_work/cell2drug/MyoFBcell_final22.loom\") # 明确指定主层\n"
   ]
  }
 ],
 "metadata": {
  "kernelspec": {
   "display_name": "R",
   "language": "R",
   "name": "ir"
  },
  "language_info": {
   "codemirror_mode": "r",
   "file_extension": ".r",
   "mimetype": "text/x-r-source",
   "name": "R",
   "pygments_lexer": "r",
   "version": "4.4.3"
  }
 },
 "nbformat": 4,
 "nbformat_minor": 2
}
